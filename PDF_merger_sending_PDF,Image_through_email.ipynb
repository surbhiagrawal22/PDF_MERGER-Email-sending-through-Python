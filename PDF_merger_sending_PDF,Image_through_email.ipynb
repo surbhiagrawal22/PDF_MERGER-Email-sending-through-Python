{
  "nbformat": 4,
  "nbformat_minor": 0,
  "metadata": {
    "colab": {
      "name": "PDF_merger/ sending PDF,Image through email.ipynb",
      "provenance": [],
      "collapsed_sections": [],
      "authorship_tag": "ABX9TyMk7kxhEsLtu8qHdHBJ5mTx",
      "include_colab_link": true
    },
    "kernelspec": {
      "display_name": "Python 3",
      "name": "python3"
    }
  },
  "cells": [
    {
      "cell_type": "markdown",
      "metadata": {
        "id": "view-in-github",
        "colab_type": "text"
      },
      "source": [
        "<a href=\"https://colab.research.google.com/github/surbhiagrawal22/PDF_MERGER-PDF-IMAGE-sending-through-Python/blob/main/PDF_merger_sending_PDF%2CImage_through_email.ipynb\" target=\"_parent\"><img src=\"https://colab.research.google.com/assets/colab-badge.svg\" alt=\"Open In Colab\"/></a>"
      ]
    },
    {
      "cell_type": "markdown",
      "metadata": {
        "id": "mdIIxM-NdG4O"
      },
      "source": [
        "Merging Two PDF documents ( encrypt them using password) and sending via email through Python\n"
      ]
    },
    {
      "cell_type": "markdown",
      "metadata": {
        "id": "TonlIZYTpDM7"
      },
      "source": [
        "Importing all neccassary libraries"
      ]
    },
    {
      "cell_type": "code",
      "metadata": {
        "id": "uB7vZMVxc5LA"
      },
      "source": [
        "import smtplib,ssl\n",
        "from email import encoders\n",
        "import email.mime\n",
        "from email.mime.text import MIMEText\n",
        "from email.mime.multipart import MIMEMultipart\n",
        "from email.mime.base import MIMEBase\n",
        "from getpass import getpass\n",
        "import PyPDF2\n",
        "from PyPDF2 import PdfFileMerger,PdfFileReader,PdfFileWriter  \n",
        "from pathlib import Path"
      ],
      "execution_count": 31,
      "outputs": []
    },
    {
      "cell_type": "markdown",
      "metadata": {
        "id": "rpC9jAGKpHsy"
      },
      "source": [
        "Reading the Two PDF file and merging the files into one File / encrpyt the file"
      ]
    },
    {
      "cell_type": "code",
      "metadata": {
        "colab": {
          "base_uri": "https://localhost:8080/"
        },
        "id": "Vns6Hjcbqegk",
        "outputId": "1f05ba52-d049-402c-c69d-2bf7b06f8c6d"
      },
      "source": [
        "\n",
        "file_path1=Path(r'/content/BDBA_M3_DataEngineering_5_Streaming.pdf')\n",
        "file_path2=Path(r'/content/Design Principles project.pdf')\n",
        "\n",
        "file_read1=PdfFileReader(str(file_path1))\n",
        "file_read2=PdfFileReader(str(file_path2))\n",
        "\n",
        "\n",
        "pdf_writer=PdfFileWriter()\n",
        "pdf_writer.appendPagesFromReader(file_read1) \n",
        "pdf_writer.appendPagesFromReader(file_read2)  \n",
        "\n",
        "pdf_encrypt_pasword=getpass(\"Enter password for PDF encyption\")\n",
        "with open(\"UniversityProject.pdf\",mode=\"wb\") as outputfile:\n",
        "  \n",
        "  pdf_writer.write(outputfile)\n",
        "  pdf_writer.encrypt(user_pwd=pdf_encrypt_pasword)\n",
        "  print(\"PDF file created and encypted succesfully\")"
      ],
      "execution_count": 33,
      "outputs": [
        {
          "output_type": "stream",
          "text": [
            "Enter password for PDF encyption··········\n",
            "PDF file created and encypted succesfully\n"
          ],
          "name": "stdout"
        }
      ]
    },
    {
      "cell_type": "markdown",
      "metadata": {
        "id": "3kuJyIO_pbDw"
      },
      "source": [
        "Creating SMTP SSL connection , Creating the Email body,attaching PDf fiel and image to Email,Sending it to receiver email address"
      ]
    },
    {
      "cell_type": "code",
      "metadata": {
        "id": "HpDnuIkagS_h",
        "colab": {
          "base_uri": "https://localhost:8080/"
        },
        "outputId": "d26b575d-5641-4e65-c36f-e95b29009207"
      },
      "source": [
        "sender_email=input(\"Enter sender email address: \")\n",
        "email_password=getpass(\"Enter Password: \")\n",
        "receiver_email=input(\"Enter receiver email address: \")\n",
        "server=\"smtp.gmail.com\"\n",
        "port=465\n",
        "\n",
        "\n",
        "context=ssl.create_default_context()\n",
        "\n",
        "message=MIMEMultipart()\n",
        "message[\"From\"]=sender_email\n",
        "message[\"To\"]=receiver_email\n",
        "message[\"Subject\"]=\"Please find attached combined PDF file\"\n",
        "\n",
        "htmltext=\"\"\"\n",
        "<html>\n",
        "<p>\n",
        "Hello Dear Surbhi,<br>\n",
        "<br>\n",
        "I have generated both files and created a combined PDF.<br>\n",
        "\n",
        "\n",
        "Please find attached email<br><br>\n",
        "\n",
        "For more information, you can check about Design principle at below link <a title=\"Design Principle Literature\" href=\"https://www.interaction-design.org/literature/topics/design-principles\">Design Principle</a><br><br>\n",
        "\n",
        "Thanks Regards\n",
        "\n",
        "\n",
        "</p>\n",
        "</html>\n",
        "\n",
        "\"\"\"\n",
        "\n",
        "htmltextpart=MIMEText(htmltext,\"html\")\n",
        "message.attach(htmltextpart)\n",
        "\n",
        "university_project_pdf_path=Path(r'/content/UniversityProject.pdf')\n",
        "\n",
        "with open(university_project_pdf_path,\"rb\") as readfile:\n",
        " part=MIMEBase(\"application\",\"octet-stream\")\n",
        " # read attachment file content into the MIMEBase object\n",
        " part.set_payload(readfile.read())\n",
        "\n",
        "encoders.encode_base64(part)\n",
        "\n",
        "# add required header data:\n",
        "part.add_header(\n",
        "    \"Content-Disposition\",\n",
        "    f\"attachment; filename= {university_project_pdf_path}\",\n",
        ")\n",
        "\n",
        "image_path=Path(r'/content/Guide to Design Principle.png')\n",
        "with open(image_path,\"rb\") as readfile:\n",
        "    mime = MIMEBase('image', 'png', filename=\"Guide to Design Principle.png\")\n",
        "    # add required header data:\n",
        "    mime.add_header('Content-Disposition', 'attachment', filename='Guide to Design Principle.png')\n",
        "    mime.add_header('X-Attachment-Id', '0')\n",
        "    mime.add_header('Content-ID', '<0>')\n",
        "    # read attachment file content into the MIMEBase object\n",
        "    mime.set_payload(readfile.read())\n",
        "\n",
        "encoders.encode_base64(mime)\n",
        "\n",
        "# attaching both pdf file and image object to message \n",
        "message.attach(mime)\n",
        "message.attach(part)\n",
        "\n",
        "\n",
        "with smtplib.SMTP_SSL(server,port=port,context=context ) as connection:\n",
        "  connection.login(sender_email,email_password)\n",
        "  connection.set_debuglevel(1)\n",
        "  connection.sendmail(sender_email,receiver_email,message.as_string())\n",
        "  print(\"Message send succesfully\")"
      ],
      "execution_count": 37,
      "outputs": [
        {
          "output_type": "stream",
          "text": [
            "Enter sender email addressagrawalsurbhi1990@gmail.com\n",
            "Enter Password··········\n",
            "Enter receiver email address11014029@stud.hochschule-heidelberg.de\n"
          ],
          "name": "stdout"
        },
        {
          "output_type": "stream",
          "text": [
            "send: 'mail FROM:<agrawalsurbhi1990@gmail.com> size=12203951\\r\\n'\n",
            "reply: b'250 2.1.0 OK k25sm3409973pfi.10 - gsmtp\\r\\n'\n",
            "reply: retcode (250); Msg: b'2.1.0 OK k25sm3409973pfi.10 - gsmtp'\n",
            "send: 'rcpt TO:<11014029@stud.hochschule-heidelberg.de>\\r\\n'\n",
            "reply: b'250 2.1.5 OK k25sm3409973pfi.10 - gsmtp\\r\\n'\n",
            "reply: retcode (250); Msg: b'2.1.5 OK k25sm3409973pfi.10 - gsmtp'\n",
            "send: 'data\\r\\n'\n",
            "IOPub data rate exceeded.\n",
            "The notebook server will temporarily stop sending output\n",
            "to the client in order to avoid crashing it.\n",
            "To change this limit, set the config variable\n",
            "`--NotebookApp.iopub_data_rate_limit`.\n",
            "\n",
            "Current values:\n",
            "NotebookApp.iopub_data_rate_limit=1000000.0 (bytes/sec)\n",
            "NotebookApp.rate_limit_window=3.0 (secs)\n",
            "\n"
          ],
          "name": "stderr"
        },
        {
          "output_type": "stream",
          "text": [
            "Message send succesfully\n"
          ],
          "name": "stdout"
        },
        {
          "output_type": "stream",
          "text": [
            "reply: b'250 2.0.0 OK  1609970426 k25sm3409973pfi.10 - gsmtp\\r\\n'\n",
            "reply: retcode (250); Msg: b'2.0.0 OK  1609970426 k25sm3409973pfi.10 - gsmtp'\n",
            "data: (250, b'2.0.0 OK  1609970426 k25sm3409973pfi.10 - gsmtp')\n",
            "send: 'QUIT\\r\\n'\n",
            "reply: b'221 2.0.0 closing connection k25sm3409973pfi.10 - gsmtp\\r\\n'\n",
            "reply: retcode (221); Msg: b'2.0.0 closing connection k25sm3409973pfi.10 - gsmtp'\n"
          ],
          "name": "stderr"
        }
      ]
    }
  ]
}